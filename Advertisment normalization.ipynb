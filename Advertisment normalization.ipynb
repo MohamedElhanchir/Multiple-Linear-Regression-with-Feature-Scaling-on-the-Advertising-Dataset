{
 "cells": [
  {
   "cell_type": "code",
   "execution_count": 77,
   "metadata": {},
   "outputs": [],
   "source": [
    "import pandas as pd\n",
    "import numpy as np\n",
    "import matplotlib.pyplot as plt\n",
    "import seaborn as sns\n",
    "from sklearn.model_selection import train_test_split"
   ]
  },
  {
   "cell_type": "markdown",
   "metadata": {},
   "source": [
    "# Preparation des donnees "
   ]
  },
  {
   "cell_type": "code",
   "execution_count": 78,
   "metadata": {},
   "outputs": [
    {
     "data": {
      "text/html": [
       "<div>\n",
       "<style scoped>\n",
       "    .dataframe tbody tr th:only-of-type {\n",
       "        vertical-align: middle;\n",
       "    }\n",
       "\n",
       "    .dataframe tbody tr th {\n",
       "        vertical-align: top;\n",
       "    }\n",
       "\n",
       "    .dataframe thead th {\n",
       "        text-align: right;\n",
       "    }\n",
       "</style>\n",
       "<table border=\"1\" class=\"dataframe\">\n",
       "  <thead>\n",
       "    <tr style=\"text-align: right;\">\n",
       "      <th></th>\n",
       "      <th>TV</th>\n",
       "      <th>Radio</th>\n",
       "      <th>Newspaper</th>\n",
       "      <th>Sales</th>\n",
       "    </tr>\n",
       "  </thead>\n",
       "  <tbody>\n",
       "    <tr>\n",
       "      <th>0</th>\n",
       "      <td>230.1</td>\n",
       "      <td>37.8</td>\n",
       "      <td>69.2</td>\n",
       "      <td>22.1</td>\n",
       "    </tr>\n",
       "    <tr>\n",
       "      <th>1</th>\n",
       "      <td>44.5</td>\n",
       "      <td>39.3</td>\n",
       "      <td>45.1</td>\n",
       "      <td>10.4</td>\n",
       "    </tr>\n",
       "    <tr>\n",
       "      <th>2</th>\n",
       "      <td>17.2</td>\n",
       "      <td>45.9</td>\n",
       "      <td>69.3</td>\n",
       "      <td>12.0</td>\n",
       "    </tr>\n",
       "    <tr>\n",
       "      <th>3</th>\n",
       "      <td>151.5</td>\n",
       "      <td>41.3</td>\n",
       "      <td>58.5</td>\n",
       "      <td>16.5</td>\n",
       "    </tr>\n",
       "    <tr>\n",
       "      <th>4</th>\n",
       "      <td>180.8</td>\n",
       "      <td>10.8</td>\n",
       "      <td>58.4</td>\n",
       "      <td>17.9</td>\n",
       "    </tr>\n",
       "  </tbody>\n",
       "</table>\n",
       "</div>"
      ],
      "text/plain": [
       "      TV  Radio  Newspaper  Sales\n",
       "0  230.1   37.8       69.2   22.1\n",
       "1   44.5   39.3       45.1   10.4\n",
       "2   17.2   45.9       69.3   12.0\n",
       "3  151.5   41.3       58.5   16.5\n",
       "4  180.8   10.8       58.4   17.9"
      ]
     },
     "execution_count": 78,
     "metadata": {},
     "output_type": "execute_result"
    }
   ],
   "source": [
    "dataset = pd.read_csv(\"Advertising.csv\");\n",
    "dataset.head()"
   ]
  },
  {
   "cell_type": "code",
   "execution_count": 79,
   "metadata": {},
   "outputs": [
    {
     "data": {
      "image/png": "[encoded data removed]",
      "text/plain": [
       "<Figure size 640x480 with 1 Axes>"
      ]
     },
     "metadata": {},
     "output_type": "display_data"
    }
   ],
   "source": [
    "# Visualizing the difference between the range of values for each feature in the dataset\n",
    "sns.boxplot(data=dataset)\n",
    "plt.show()"
   ]
  },
  {
   "cell_type": "markdown",
   "metadata": {},
   "source": [
    "# Travail 1 : Les formules mathématiques \"from scratch\""
   ]
  },
  {
   "cell_type": "code",
   "execution_count": 80,
   "metadata": {},
   "outputs": [
    {
     "data": {
      "text/plain": [
       "array([[230.1,  37.8,  69.2],\n",
       "       [ 44.5,  39.3,  45.1],\n",
       "       [ 17.2,  45.9,  69.3],\n",
       "       [151.5,  41.3,  58.5],\n",
       "       [180.8,  10.8,  58.4],\n",
       "       [  8.7,  48.9,  75. ],\n",
       "       [ 57.5,  32.8,  23.5],\n",
       "       [120.2,  19.6,  11.6],\n",
       "       [  8.6,   2.1,   1. ],\n",
       "       [199.8,   2.6,  21.2]])"
      ]
     },
     "execution_count": 80,
     "metadata": {},
     "output_type": "execute_result"
    }
   ],
   "source": [
    "# separation des données en features et target variable (X et y) \n",
    "# X contient les features et y contient la target variable\n",
    "X = dataset.iloc[:, :-1].values\n",
    "y = dataset.iloc[:, -1].values\n",
    "\n",
    "X[:10]"
   ]
  },
  {
   "cell_type": "code",
   "execution_count": 81,
   "metadata": {},
   "outputs": [
    {
     "data": {
      "text/plain": [
       "array([[ 0.62602631, -0.77516426, -0.57591833,  1.        ],\n",
       "       [ 1.41524722, -0.75446339, -0.79198373,  1.        ],\n",
       "       [-0.31715737, -0.52934136, -0.42066176,  1.        ],\n",
       "       [-0.06874686, -0.71176783, -0.63802096,  1.        ],\n",
       "       [ 2.02333547, -0.84373592, -0.67295369,  1.        ],\n",
       "       [-0.38055381, -0.82691646, -0.69624217,  1.        ],\n",
       "       [ 0.03863894, -0.66777847, -0.34691488,  1.        ],\n",
       "       [ 1.03098721, -0.56556789, -0.62767052,  1.        ],\n",
       "       [ 0.47853257, -0.80104036, -0.42971839,  1.        ],\n",
       "       [ 0.11238581, -0.51899092, -0.66777847,  1.        ]])"
      ]
     },
     "execution_count": 81,
     "metadata": {},
     "output_type": "execute_result"
    }
   ],
   "source": [
    "# separation des donnnees de test et d'entrainement\n",
    "\n",
    "X_train, X_test, y_train, y_test = train_test_split(X, y, test_size=0.2, random_state=42)\n",
    "\n",
    "#  Normalisation des données avec la formule (X - X.mean()) / X.std()\n",
    "\n",
    "X_train = (X_train - X_train.mean()) / X_train.std()\n",
    "X_test = (X_test - X_train.mean()) / X_train.std()\n",
    "\n",
    "X_train = np.hstack((X_train, np.ones((X_train.shape[0], 1))))\n",
    "X_test = np.hstack((X_test, np.ones((X_test.shape[0], 1))))\n",
    "\n",
    "y_train = [[val] for val in y_train]\n",
    "y_test = [[val] for val in y_test]\n",
    "\n",
    "X_train[:10]"
   ]
  },
  {
   "cell_type": "code",
   "execution_count": 82,
   "metadata": {},
   "outputs": [],
   "source": [
    "def model(X, P):\n",
    "    return np.dot(X, P)\n",
    "\n",
    "def grad(X, y, P):\n",
    "    m = len(y)\n",
    "    return 1/m * X.T.dot(model(X, P) - y)\n",
    "\n",
    "def cost_function(X, y, P):\n",
    "    m = len(y)\n",
    "    return 1/(2*m) * np.sum((model(X, P) - y)**2)\n",
    "\n",
    "def gradient_descent(X, y, P, learning_rate, n_iterations):\n",
    "    cost_history = np.zeros(n_iterations)\n",
    "\n",
    "    for i in range(0, n_iterations):\n",
    "        P = P - learning_rate * grad(X, y, P)\n",
    "        cost_history[i] = cost_function(X, y, P)\n",
    "\n",
    "    return P, cost_history\n",
    "\n",
    "def r_squared(y_true, y_pred):\n",
    "    mean_y_true = np.mean(y_true)\n",
    "\n",
    "    total_sum_squares = np.sum((y_true - mean_y_true) ** 2)\n",
    "\n",
    "    residual_sum_squares = np.sum((y_true - y_pred) ** 2)\n",
    "\n",
    "    r_squared = 1 - (residual_sum_squares / total_sum_squares)\n",
    "\n",
    "    return r_squared\n",
    "\n",
    "def RSE(Y, PRE):\n",
    "    u = np.sum((Y - PRE) ** 2)\n",
    "    v = np.sum((Y - np.mean(Y)) ** 2)\n",
    "    return 1 - (u / v)"
   ]
  },
  {
   "cell_type": "code",
   "execution_count": 83,
   "metadata": {},
   "outputs": [
    {
     "data": {
      "text/plain": [
       "array([[ 5.01705084],\n",
       "       [-3.23740024],\n",
       "       [-1.70756949],\n",
       "       [ 5.98833793]])"
      ]
     },
     "execution_count": 83,
     "metadata": {},
     "output_type": "execute_result"
    }
   ],
   "source": [
    "n_iterations = 100000\n",
    "learning_rate = 0.00001\n",
    "P_init = np.random.randn(4,1)\n",
    "\n",
    "P, cost_history_1 = gradient_descent(X_train, y_train, P_init, learning_rate, n_iterations)\n",
    "\n",
    "P"
   ]
  },
  {
   "cell_type": "code",
   "execution_count": 84,
   "metadata": {},
   "outputs": [
    {
     "data": {
      "text/plain": [
       "-15537.455716856002"
      ]
     },
     "execution_count": 84,
     "metadata": {},
     "output_type": "execute_result"
    }
   ],
   "source": [
    "r_squared(y_test, model(X_test, P))"
   ]
  },
  {
   "cell_type": "markdown",
   "metadata": {},
   "source": [
    "# Mehode 2 : Utilisation de StandardScaler"
   ]
  },
  {
   "cell_type": "code",
   "execution_count": 85,
   "metadata": {},
   "outputs": [
    {
     "data": {
      "text/plain": [
       "array([[-0.40424839, -1.02823707, -0.33767538,  1.        ],\n",
       "       [ 0.32060772, -0.91982774, -1.16143931,  1.        ],\n",
       "       [-1.27051084,  0.2591237 ,  0.25425079,  1.        ],\n",
       "       [-1.04235941, -0.6962335 , -0.57444585,  1.        ],\n",
       "       [ 0.8791034 , -1.38734296, -0.70762924,  1.        ],\n",
       "       [-1.32873699, -1.29926038, -0.79641817,  1.        ],\n",
       "       [-0.94373145, -0.46586368,  0.53541572,  1.        ],\n",
       "       [-0.03231403,  0.06940738, -0.53498411,  1.        ],\n",
       "       [-0.5397133 , -1.16374872,  0.21972176,  1.        ],\n",
       "       [-0.875999  ,  0.31332837, -0.68789837,  1.        ]])"
      ]
     },
     "execution_count": 85,
     "metadata": {},
     "output_type": "execute_result"
    }
   ],
   "source": [
    "from sklearn.preprocessing import StandardScaler\n",
    "\n",
    "X_train, X_test, y_train, y_test = train_test_split(X, y, test_size=0.2, random_state=42)\n",
    "\n",
    "scaler = StandardScaler()\n",
    "\n",
    "X_train = scaler.fit_transform(X_train)\n",
    "X_test = scaler.transform(X_test)\n",
    "\n",
    "X_train = np.hstack((X_train, np.ones((X_train.shape[0], 1))))\n",
    "X_test = np.hstack((X_test, np.ones((X_test.shape[0], 1))))\n",
    "\n",
    "y_train = [[val] for val in y_train]\n",
    "y_test = [[val] for val in y_test]\n",
    "\n",
    "X_train[:10]"
   ]
  },
  {
   "cell_type": "code",
   "execution_count": 86,
   "metadata": {},
   "outputs": [
    {
     "data": {
      "text/plain": [
       "array([[ 2.05072409],\n",
       "       [ 1.28893411],\n",
       "       [-0.06379519],\n",
       "       [10.21985749]])"
      ]
     },
     "execution_count": 86,
     "metadata": {},
     "output_type": "execute_result"
    }
   ],
   "source": [
    "P_init = np.random.randn(4,1)\n",
    "\n",
    "P, cost_history_2 = gradient_descent(X_train, y_train, P_init, learning_rate, n_iterations)\n",
    "\n",
    "P"
   ]
  },
  {
   "cell_type": "code",
   "execution_count": 87,
   "metadata": {},
   "outputs": [
    {
     "data": {
      "text/plain": [
       "0.06860091174682392"
      ]
     },
     "execution_count": 87,
     "metadata": {},
     "output_type": "execute_result"
    }
   ],
   "source": [
    "r_squared(y_test, model(X_test, P))"
   ]
  },
  {
   "cell_type": "markdown",
   "metadata": {},
   "source": [
    "# Comparaison des resultats "
   ]
  },
  {
   "cell_type": "code",
   "execution_count": 88,
   "metadata": {},
   "outputs": [
    {
     "data": {
      "image/png": "[encoded data removed]",
      "text/plain": [
       "<Figure size 1200x500 with 2 Axes>"
      ]
     },
     "metadata": {},
     "output_type": "display_data"
    }
   ],
   "source": [
    "fig, axs = plt.subplots(1, 2, figsize=(12, 5))\n",
    "# from scratch\n",
    "axs[0].plot(range(n_iterations), cost_history_1)\n",
    "axs[0].set_title('Scaling from scratch')\n",
    "# using StandardScaler \n",
    "axs[1].plot(range(n_iterations), cost_history_2)\n",
    "axs[1].set_title('Scaling by StandardScaler')\n",
    "plt.tight_layout()\n",
    "plt.show()"
   ]
  }
 ],
 "metadata": {
  "kernelspec": {
   "display_name": "Python 3",
   "language": "python",
   "name": "python3"
  },
  "language_info": {
   "codemirror_mode": {
    "name": "ipython",
    "version": 3
   },
   "file_extension": ".py",
   "mimetype": "text/x-python",
   "name": "python",
   "nbconvert_exporter": "python",
   "pygments_lexer": "ipython3",
   "version": "3.12.0"
  }
 },
 "nbformat": 4,
 "nbformat_minor": 2
}
